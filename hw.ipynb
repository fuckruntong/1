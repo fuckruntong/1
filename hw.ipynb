{
 "cells": [
  {
   "cell_type": "markdown",
   "metadata": {},
   "source": [
    "## 感知机算法作业 ##\n",
    "\n",
    "用感知机算法求下列模式分类的解向量\n",
    "$$w1:{(0\\,0\\,0)^T, (1\\,0\\,0)^T,(1\\,0\\,1)^T,(1\\,1\\,0)^T}$$\n",
    "$$w2:{(0\\,0\\,1)^T, (0\\,1\\,1)^T,(0\\,1\\,0)^T,(0\\,1\\,1)^T}$$"
   ]
  },
  {
   "cell_type": "code",
   "execution_count": 1,
   "metadata": {},
   "outputs": [],
   "source": [
    "import matplotlib.pyplot as plt\n",
    "%matplotlib inline\n",
    "import numpy as np\n",
    "# from mpl_toolkits.mplot3d import axes3d"
   ]
  },
  {
   "cell_type": "code",
   "execution_count": 3,
   "metadata": {},
   "outputs": [],
   "source": [
    "# 输入数据\n",
    "data = np.array(([0, 0, 0, 1],\n",
    "                [1, 0, 0, 1],\n",
    "                [1, 0, 1, 1],\n",
    "                [1, 1, 0, 1],\n",
    "                [0, 0, -1, 1],\n",
    "                [0, -1, -1, -1],\n",
    "                [0, -1, 0, -1],\n",
    "                [0, -1, -1, -1]))"
   ]
  },
  {
   "cell_type": "code",
   "execution_count": 6,
   "metadata": {},
   "outputs": [
    {
     "name": "stdout",
     "output_type": "stream",
     "text": [
      "0\n"
     ]
    }
   ],
   "source": [
    "data.T\n",
    "data.T.shape\n",
    "b = data.T[:, 1]\n",
    "c = np.array([0, 0, 0, 0])\n",
    "print(np.dot(b, c))"
   ]
  },
  {
   "cell_type": "code",
   "execution_count": 7,
   "metadata": {},
   "outputs": [],
   "source": [
    "# 定义感知机学习函数\n",
    "def Perceptron(data):\n",
    "    m, n = data.shape    # 返回矩阵的行数和列数\n",
    "    w = np.zeros(m)     # w的维度应该和x曾广后的维度相同\n",
    "    flag = 0        # 这里的flag=0表示所有分类均正确\n",
    "    \n",
    "    while(flag == 0):    # 只要flag！=0说明还需要迭代\n",
    "        flag = 0\n",
    "        for x in range(n):    # 对于每一个x的曾广,取矩阵的列向量\n",
    "            if np.dot(w, data[:,x]) <= 0:\n",
    "                flag += 1\n",
    "                w += data[:,x]\n",
    "    \n",
    "    return w"
   ]
  },
  {
   "cell_type": "code",
   "execution_count": 8,
   "metadata": {},
   "outputs": [],
   "source": [
    "w = Perceptron(data.T)"
   ]
  },
  {
   "cell_type": "code",
   "execution_count": 9,
   "metadata": {},
   "outputs": [
    {
     "name": "stdout",
     "output_type": "stream",
     "text": [
      "[ 0. -1. -1.  0.]\n"
     ]
    }
   ],
   "source": [
    "print(w)"
   ]
  },
  {
   "cell_type": "markdown",
   "metadata": {},
   "source": [
    "## 多类感知机算法 ##\n",
    "\n",
    "用多类感知机算法求下列模式的判别函数：\n",
    "$$w1:(-1\\,-1)^T$$\n",
    "$$w2:(0\\,0)^T$$\n",
    "$$w3:(1\\,1)^T$$\n",
    "\n",
    "将模式增广\n",
    "$$x_{1}:(-1\\,-1\\,1)^T$$\n",
    "$$x_{2}:(0\\,0\\,1)^T$$\n",
    "$$x_{3}:(1\\,1\\,1)^T$$"
   ]
  },
  {
   "cell_type": "code",
   "execution_count": 5,
   "metadata": {},
   "outputs": [],
   "source": [
    "# 输入样本\n",
    "import numpy as np\n",
    "data = np.array([[-1, -1, 1],\n",
    "               [0, 0, 1],\n",
    "               [1, 1, 1]])"
   ]
  },
  {
   "cell_type": "code",
   "execution_count": 6,
   "metadata": {},
   "outputs": [],
   "source": [
    "dataT = data\n",
    "label = np.array([0, 1, 2])\n",
    "m, n = dataT.shape    # m为输入模式的维度\n",
    "label_num = 3         # 类别数目\n",
    "sample_num = 3\n",
    "w = np.zeros(shape=(n, label_num))    # 权重矩阵\n",
    "d = np.zeros(label_num)"
   ]
  },
  {
   "cell_type": "code",
   "execution_count": 7,
   "metadata": {},
   "outputs": [],
   "source": [
    "def sign(val):\n",
    "    if val >= 0:\n",
    "        return 1\n",
    "    else:\n",
    "        return 0\n",
    "\n",
    "# 定义多类感知机算法\n",
    "\n",
    "def MultiPerceptron(data, label):\n",
    "    flagW = False    # 初始化flagW,\n",
    "    while(not flagW):\n",
    "        for x, c in zip(data, label):\n",
    "            print(\"\\n\")\n",
    "            print(\"x is {}\".format(x))\n",
    "            print(\"Class is {}\".format(c))\n",
    "            print(\"\\n\")\n",
    "            for i in range(label_num):\n",
    "                d[i] = np.dot(w[:,i], x)\n",
    "                print(\"d{} is {}\".format(i, d[i]))\n",
    "            \n",
    "            flag = 0    # 判断是否有d[i]>=d[c]\n",
    "            for i in range(sample_num):\n",
    "                if label[i] != c:\n",
    "                    flag += sign(d[i]-d[c])\n",
    "                    # print(\"flag is {}\".format(flag))\n",
    "                    w[:, i] -= (sign(d[i]-d[c]))*x\n",
    "            if flag != 0:    # 一旦有d[i]>=d[c]说明d[需要被更新]\n",
    "                w[:,c] += x\n",
    "            else:\n",
    "                flagW = True\n",
    "            print(\"w.T is\")\n",
    "            print(w.T)\n",
    "        \n",
    "    return w"
   ]
  },
  {
   "cell_type": "code",
   "execution_count": 8,
   "metadata": {},
   "outputs": [
    {
     "name": "stdout",
     "output_type": "stream",
     "text": [
      "\n",
      "\n",
      "x is [-1 -1  1]\n",
      "Class is 0\n",
      "\n",
      "\n",
      "d0 is 0.0\n",
      "d1 is 0.0\n",
      "d2 is 0.0\n",
      "w.T is\n",
      "[[-1. -1.  1.]\n",
      " [ 1.  1. -1.]\n",
      " [ 1.  1. -1.]]\n",
      "\n",
      "\n",
      "x is [0 0 1]\n",
      "Class is 1\n",
      "\n",
      "\n",
      "d0 is 1.0\n",
      "d1 is -1.0\n",
      "d2 is -1.0\n",
      "w.T is\n",
      "[[-1. -1.  0.]\n",
      " [ 1.  1.  0.]\n",
      " [ 1.  1. -2.]]\n",
      "\n",
      "\n",
      "x is [1 1 1]\n",
      "Class is 2\n",
      "\n",
      "\n",
      "d0 is -2.0\n",
      "d1 is 2.0\n",
      "d2 is 0.0\n",
      "w.T is\n",
      "[[-1. -1.  0.]\n",
      " [ 0.  0. -1.]\n",
      " [ 2.  2. -1.]]\n",
      "\n",
      "\n",
      "x is [-1 -1  1]\n",
      "Class is 0\n",
      "\n",
      "\n",
      "d0 is 2.0\n",
      "d1 is -1.0\n",
      "d2 is -5.0\n",
      "w.T is\n",
      "[[-1. -1.  0.]\n",
      " [ 0.  0. -1.]\n",
      " [ 2.  2. -1.]]\n",
      "\n",
      "\n",
      "x is [0 0 1]\n",
      "Class is 1\n",
      "\n",
      "\n",
      "d0 is 0.0\n",
      "d1 is -1.0\n",
      "d2 is -1.0\n",
      "w.T is\n",
      "[[-1. -1. -1.]\n",
      " [ 0.  0.  0.]\n",
      " [ 2.  2. -2.]]\n",
      "\n",
      "\n",
      "x is [1 1 1]\n",
      "Class is 2\n",
      "\n",
      "\n",
      "d0 is -3.0\n",
      "d1 is 0.0\n",
      "d2 is 2.0\n",
      "w.T is\n",
      "[[-1. -1. -1.]\n",
      " [ 0.  0.  0.]\n",
      " [ 2.  2. -2.]]\n"
     ]
    }
   ],
   "source": [
    "w = MultiPerceptron(dataT, label)"
   ]
  },
  {
   "cell_type": "code",
   "execution_count": 9,
   "metadata": {},
   "outputs": [
    {
     "name": "stdout",
     "output_type": "stream",
     "text": [
      "[[-1.  0.  2.]\n",
      " [-1.  0.  2.]\n",
      " [-1.  0. -2.]]\n"
     ]
    }
   ],
   "source": [
    "print(w)"
   ]
  },
  {
   "cell_type": "code",
   "execution_count": 11,
   "metadata": {},
   "outputs": [],
   "source": [
    "data2 = np.array([[0, 0, 0],\n",
    "                 [1, 0, 0],\n",
    "                 [1, 0, 1],\n",
    "                 [1, 1, 0],\n",
    "                 [0, 0, 1],\n",
    "                 [0, 1, 1],\n",
    "                 [0, 1, 0],\n",
    "                 [1, 1, 1]])\n",
    "label2 = np.array([0, 0, 0, 0, 1, 1, 1, 1])\n",
    "m, n = data2.shape    # m为输入模式的维度\n",
    "label_num = 2         # 类别数目\n",
    "sample_num = 8\n",
    "w = np.zeros(shape=(n, label_num))    # 权重矩阵\n",
    "d = np.zeros(label_num)"
   ]
  },
  {
   "cell_type": "code",
   "execution_count": 12,
   "metadata": {},
   "outputs": [
    {
     "name": "stdout",
     "output_type": "stream",
     "text": [
      "\n",
      "\n",
      "x is [0 0 0]\n",
      "Class is 0\n",
      "\n",
      "\n",
      "d0 is 0.0\n",
      "d1 is 0.0\n"
     ]
    },
    {
     "ename": "IndexError",
     "evalue": "index 4 is out of bounds for axis 0 with size 2",
     "output_type": "error",
     "traceback": [
      "\u001b[0;31m---------------------------------------------------------------------------\u001b[0m",
      "\u001b[0;31mIndexError\u001b[0m                                Traceback (most recent call last)",
      "\u001b[0;32m<ipython-input-12-0aacc76d5e8e>\u001b[0m in \u001b[0;36m<module>\u001b[0;34m()\u001b[0m\n\u001b[0;32m----> 1\u001b[0;31m \u001b[0mw\u001b[0m \u001b[0;34m=\u001b[0m \u001b[0mMultiPerceptron\u001b[0m\u001b[0;34m(\u001b[0m\u001b[0mdata2\u001b[0m\u001b[0;34m,\u001b[0m \u001b[0mlabel2\u001b[0m\u001b[0;34m)\u001b[0m\u001b[0;34m\u001b[0m\u001b[0m\n\u001b[0m",
      "\u001b[0;32m<ipython-input-7-62aff5b2af2c>\u001b[0m in \u001b[0;36mMultiPerceptron\u001b[0;34m(data, label)\u001b[0m\n\u001b[1;32m     22\u001b[0m             \u001b[0;32mfor\u001b[0m \u001b[0mi\u001b[0m \u001b[0;32min\u001b[0m \u001b[0mrange\u001b[0m\u001b[0;34m(\u001b[0m\u001b[0msample_num\u001b[0m\u001b[0;34m)\u001b[0m\u001b[0;34m:\u001b[0m\u001b[0;34m\u001b[0m\u001b[0m\n\u001b[1;32m     23\u001b[0m                 \u001b[0;32mif\u001b[0m \u001b[0mlabel\u001b[0m\u001b[0;34m[\u001b[0m\u001b[0mi\u001b[0m\u001b[0;34m]\u001b[0m \u001b[0;34m!=\u001b[0m \u001b[0mc\u001b[0m\u001b[0;34m:\u001b[0m\u001b[0;34m\u001b[0m\u001b[0m\n\u001b[0;32m---> 24\u001b[0;31m                     \u001b[0mflag\u001b[0m \u001b[0;34m+=\u001b[0m \u001b[0msign\u001b[0m\u001b[0;34m(\u001b[0m\u001b[0md\u001b[0m\u001b[0;34m[\u001b[0m\u001b[0mi\u001b[0m\u001b[0;34m]\u001b[0m\u001b[0;34m-\u001b[0m\u001b[0md\u001b[0m\u001b[0;34m[\u001b[0m\u001b[0mc\u001b[0m\u001b[0;34m]\u001b[0m\u001b[0;34m)\u001b[0m\u001b[0;34m\u001b[0m\u001b[0m\n\u001b[0m\u001b[1;32m     25\u001b[0m                     \u001b[0;31m# print(\"flag is {}\".format(flag))\u001b[0m\u001b[0;34m\u001b[0m\u001b[0;34m\u001b[0m\u001b[0m\n\u001b[1;32m     26\u001b[0m                     \u001b[0mw\u001b[0m\u001b[0;34m[\u001b[0m\u001b[0;34m:\u001b[0m\u001b[0;34m,\u001b[0m \u001b[0mi\u001b[0m\u001b[0;34m]\u001b[0m \u001b[0;34m-=\u001b[0m \u001b[0;34m(\u001b[0m\u001b[0msign\u001b[0m\u001b[0;34m(\u001b[0m\u001b[0md\u001b[0m\u001b[0;34m[\u001b[0m\u001b[0mi\u001b[0m\u001b[0;34m]\u001b[0m\u001b[0;34m-\u001b[0m\u001b[0md\u001b[0m\u001b[0;34m[\u001b[0m\u001b[0mc\u001b[0m\u001b[0;34m]\u001b[0m\u001b[0;34m)\u001b[0m\u001b[0;34m)\u001b[0m\u001b[0;34m*\u001b[0m\u001b[0mx\u001b[0m\u001b[0;34m\u001b[0m\u001b[0m\n",
      "\u001b[0;31mIndexError\u001b[0m: index 4 is out of bounds for axis 0 with size 2"
     ]
    }
   ],
   "source": [
    "w = MultiPerceptron(data2, label2)"
   ]
  },
  {
   "cell_type": "code",
   "execution_count": null,
   "metadata": {},
   "outputs": [],
   "source": []
  }
 ],
 "metadata": {
  "kernelspec": {
   "display_name": "Python 3",
   "language": "python",
   "name": "python3"
  },
  "language_info": {
   "codemirror_mode": {
    "name": "ipython",
    "version": 3
   },
   "file_extension": ".py",
   "mimetype": "text/x-python",
   "name": "python",
   "nbconvert_exporter": "python",
   "pygments_lexer": "ipython3",
   "version": "3.7.0"
  }
 },
 "nbformat": 4,
 "nbformat_minor": 2
}
